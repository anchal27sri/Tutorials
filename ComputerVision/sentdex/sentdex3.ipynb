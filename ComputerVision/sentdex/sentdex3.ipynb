{
 "cells": [
  {
   "cell_type": "markdown",
   "metadata": {},
   "source": [
    "## Writing and Drawing on an image"
   ]
  },
  {
   "cell_type": "code",
   "execution_count": 9,
   "metadata": {},
   "outputs": [],
   "source": [
    "import numpy as numpy\n",
    "import cv2 "
   ]
  },
  {
   "cell_type": "code",
   "execution_count": 6,
   "metadata": {},
   "outputs": [],
   "source": [
    "img = cv2.imread('C:/Users/user/Documents/pythonprog/ML/Tutorials/ComputerVision/image_samples/elephant.jpg',cv2.IMREAD_COLOR)"
   ]
  },
  {
   "cell_type": "code",
   "execution_count": 7,
   "metadata": {},
   "outputs": [
    {
     "output_type": "execute_result",
     "data": {
      "text/plain": "array([[[255, 255, 255],\n        [255, 255, 255],\n        [255, 255, 255],\n        ...,\n        [193, 144, 128],\n        [193, 144, 128],\n        [194, 145, 129]],\n\n       [[255, 255, 255],\n        [255, 255, 255],\n        [255, 255, 255],\n        ...,\n        [194, 145, 129],\n        [193, 147, 130],\n        [193, 147, 130]],\n\n       [[255, 255, 255],\n        [255, 255, 255],\n        [255, 255, 255],\n        ...,\n        [193, 149, 132],\n        [194, 150, 133],\n        [194, 150, 133]],\n\n       ...,\n\n       [[  3,   8,   7],\n        [  3,   8,   7],\n        [  4,   9,   8],\n        ...,\n        [ 29,  85,  86],\n        [ 17,  79,  87],\n        [ 44, 121, 123]],\n\n       [[  3,   8,   7],\n        [  3,   8,   7],\n        [  3,   8,   7],\n        ...,\n        [ 50, 100, 100],\n        [ 16,  70,  77],\n        [ 69, 141, 141]],\n\n       [[  3,   8,   7],\n        [  3,   8,   7],\n        [  3,   8,   7],\n        ...,\n        [ 11,  53,  52],\n        [ 14,  62,  68],\n        [ 47, 111, 111]]], dtype=uint8)"
     },
     "metadata": {},
     "execution_count": 7
    }
   ],
   "source": [
    "cv2.line(img = img,pt1 =  (0,0),pt2 =  (150,150), color = (255,255,255),thickness= 15)\n",
    "cv2.rectangle(img = img, pt1 =  (15,25),pt2 = (200,150), color = (0,255,0))\n",
    "cv2.circle(img, (100,63), 55, (0,0,255), -1)"
   ]
  },
  {
   "cell_type": "code",
   "execution_count": 8,
   "metadata": {},
   "outputs": [],
   "source": [
    "cv2.imshow('image',img)\n",
    "cv2.waitKey(0)\n",
    "cv2.destroyAllWindows()"
   ]
  },
  {
   "cell_type": "code",
   "execution_count": null,
   "metadata": {},
   "outputs": [],
   "source": []
  }
 ],
 "metadata": {
  "language_info": {
   "codemirror_mode": {
    "name": "ipython",
    "version": 3
   },
   "file_extension": ".py",
   "mimetype": "text/x-python",
   "name": "python",
   "nbconvert_exporter": "python",
   "pygments_lexer": "ipython3",
   "version": "3.7.3-final"
  },
  "orig_nbformat": 2,
  "kernelspec": {
   "name": "python3",
   "display_name": "Python 3"
  }
 },
 "nbformat": 4,
 "nbformat_minor": 2
}