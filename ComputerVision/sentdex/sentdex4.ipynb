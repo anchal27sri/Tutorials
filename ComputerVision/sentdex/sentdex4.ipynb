{
 "cells": [
  {
   "cell_type": "markdown",
   "metadata": {},
   "source": [
    "## Image operations"
   ]
  },
  {
   "cell_type": "code",
   "execution_count": 16,
   "metadata": {},
   "outputs": [],
   "source": [
    "import numpy as numpy\n",
    "import cv2 "
   ]
  },
  {
   "cell_type": "code",
   "execution_count": 17,
   "metadata": {},
   "outputs": [],
   "source": [
    "img1 = cv2.imread('C:/Users/user/Documents/pythonprog/ML/Tutorials/ComputerVision/image_samples/elephant.jpg',cv2.IMREAD_COLOR)\n",
    "img2 = cv2.imread('C:/Users/user/Documents/pythonprog/ML/Tutorials/ComputerVision/image_samples/modi.jpg',cv2.IMREAD_COLOR)"
   ]
  },
  {
   "cell_type": "code",
   "execution_count": 18,
   "metadata": {},
   "outputs": [],
   "source": [
    "rows,cols,channels = img2.shape\n",
    "roi = img1[0:rows,0:cols]\n",
    "\n",
    "img2grey = cv2.cvtColor(img2,cv2.COLOR_BGR2GRAY)\n",
    "ret, mask = cv2.threshold(img2grey, 220, 255, cv2.THRESH_BINARY_INV)"
   ]
  },
  {
   "cell_type": "code",
   "execution_count": 20,
   "metadata": {},
   "outputs": [],
   "source": [
    "mask_inv = cv2.bitwise_not(mask)\n",
    "img1_bg = cv2.bitwise_and\n",
    "\n",
    "img1_bg = cv2.bitwise_and(roi, roi, mask = mask_inv)\n",
    "img2_fg = cv2.bitwise_and(img2,img2, mask = mask)\n",
    "\n",
    "det = cv2.add(img1_bg, img2_fg)\n",
    "img1[0:rows,0:cols] = det "
   ]
  },
  {
   "cell_type": "code",
   "execution_count": 21,
   "metadata": {},
   "outputs": [],
   "source": [
    "cv2.imshow('image',mask)\n",
    "cv2.waitKey(0)\n",
    "cv2.destroyAllWindows()"
   ]
  },
  {
   "cell_type": "code",
   "execution_count": null,
   "metadata": {},
   "outputs": [],
   "source": []
  }
 ],
 "metadata": {
  "language_info": {
   "codemirror_mode": {
    "name": "ipython",
    "version": 3
   },
   "file_extension": ".py",
   "mimetype": "text/x-python",
   "name": "python",
   "nbconvert_exporter": "python",
   "pygments_lexer": "ipython3",
   "version": "3.7.3-final"
  },
  "orig_nbformat": 2,
  "kernelspec": {
   "name": "python3",
   "display_name": "Python 3"
  }
 },
 "nbformat": 4,
 "nbformat_minor": 2
}